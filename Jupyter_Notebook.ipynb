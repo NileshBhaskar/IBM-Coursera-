{
 "cells": [
  {
   "cell_type": "markdown",
   "metadata": {},
   "source": [
    "<center>\n",
    "    <img src=\"https://s3-api.us-geo.objectstorage.softlayer.net/cf-courses-data/CognitiveClass/Logos/organization_logo/organization_logo.png\" width=\"300\" alt=\"cognitiveclass.ai logo\"  />\n",
    "</center>\n"
   ]
  },
  {
   "cell_type": "markdown",
   "metadata": {},
   "source": [
    "<h1>My Jupyter Notebook on IBM Watson Studio</h1>"
   ]
  },
  {
   "cell_type": "markdown",
   "metadata": {},
   "source": [
    "**Nilesh Bhaskar**<br>\n",
    "Student"
   ]
  },
  {
   "cell_type": "markdown",
   "metadata": {},
   "source": [
    "*I am interested in data science because data scientist are in demands and number of data scientist are very low so the pay scale for data scientists are very high compared to other profile.*"
   ]
  },
  {
   "cell_type": "markdown",
   "metadata": {},
   "source": [
    "<h3>I am going to concatenate two string</h3>"
   ]
  },
  {
   "cell_type": "code",
   "execution_count": 1,
   "metadata": {},
   "outputs": [
    {
     "name": "stdout",
     "output_type": "stream",
     "text": [
      "Nilesh Bhaskar\n"
     ]
    }
   ],
   "source": [
    "a = \"Nilesh\"\n",
    "b = \" Bhaskar\"\n",
    "\n",
    "print(a+b)"
   ]
  },
  {
   "cell_type": "markdown",
   "metadata": {},
   "source": [
    "I am using horizontal line\n",
    "<hr>\n",
    "\n",
    "<img src=\"data:image/jpeg;base64,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 \">\n",
    "\n",
    "\n",
    "Now I will use link\n",
    "<hr>\n",
    "<a href=\"https://www.coursera.org/\"> click here </a>"
   ]
  },
  {
   "cell_type": "code",
   "execution_count": null,
   "metadata": {},
   "outputs": [],
   "source": []
  }
 ],
 "metadata": {
  "kernelspec": {
   "display_name": "Python",
   "language": "python",
   "name": "conda-env-python-py"
  },
  "language_info": {
   "codemirror_mode": {
    "name": "ipython",
    "version": 3
   },
   "file_extension": ".py",
   "mimetype": "text/x-python",
   "name": "python",
   "nbconvert_exporter": "python",
   "pygments_lexer": "ipython3",
   "version": "3.7.12"
  }
 },
 "nbformat": 4,
 "nbformat_minor": 4
}
